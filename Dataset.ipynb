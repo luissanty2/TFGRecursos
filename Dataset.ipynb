{
  "nbformat": 4,
  "nbformat_minor": 0,
  "metadata": {
    "colab": {
      "provenance": [],
      "authorship_tag": "ABX9TyPeRkk2areleqJxzJY0Kwpj",
      "include_colab_link": true
    },
    "kernelspec": {
      "name": "python3",
      "display_name": "Python 3"
    },
    "language_info": {
      "name": "python"
    }
  },
  "cells": [
    {
      "cell_type": "markdown",
      "metadata": {
        "id": "view-in-github",
        "colab_type": "text"
      },
      "source": [
        "<a href=\"https://colab.research.google.com/github/luissanty2/TFGRecursos/blob/main/Dataset.ipynb\" target=\"_parent\"><img src=\"https://colab.research.google.com/assets/colab-badge.svg\" alt=\"Open In Colab\"/></a>"
      ]
    },
    {
      "cell_type": "markdown",
      "source": [
        "# Creación del dataset\n",
        "Este cuaderno de colab está destinado a la creación del set de datos inicial a partir de archivos csv oficiales obtenidos de [datahub](https://datahub.io/sports-data/atp-world-tour-tennis-data). \n",
        "\n",
        "Todos los archivos han sido subidos previamente a un repositorio de github previamente para trabajar fácilmente con los ficheros sin tener la necesidad de subirlos a colab para poder modificar cualquier cosa necesaria del dataset.\n",
        "\n",
        "Ningún csv, salvo el utilizado para el ranking, que ha sido modificado para que pesara menos, guardado en github ha sido alterado."
      ],
      "metadata": {
        "id": "DEe3pY82vnei"
      }
    },
    {
      "cell_type": "code",
      "execution_count": 51,
      "metadata": {
        "id": "K6lTdGdi55vv"
      },
      "outputs": [],
      "source": [
        "import pandas as pd\n",
        "import numpy as np"
      ]
    },
    {
      "cell_type": "markdown",
      "source": [
        "En primer lugar se modifican algunas columnas para relativizar ciertos datos y hacerlos cómodos de utilizar, y se unen los datos de puntuaciones y estadísticas de partidos, conservando solamente columnas útiles."
      ],
      "metadata": {
        "id": "XAO_5GAbxKAM"
      }
    },
    {
      "cell_type": "code",
      "source": [
        "df_scores1 = pd.read_csv(\"https://media.githubusercontent.com/media/luissanty2/TFGRecursos/main/datasets/match_scores_1991-2016_unindexed_csv.csv\", encoding = 'latin1')\n",
        "df_scores2 = pd.read_csv(\"https://media.githubusercontent.com/media/luissanty2/TFGRecursos/main/datasets/match_scores_2017_unindexed_csv.csv\", encoding = 'latin1')\n",
        "\n",
        "df_scores = pd.concat([df_scores1, df_scores2], axis=0)\n",
        "\n",
        "\n",
        "df_stats1 = pd.read_csv(\"https://media.githubusercontent.com/media/luissanty2/TFGRecursos/main/datasets/match_stats_1991-2016_unindexed_csv.csv\", encoding = 'latin1')\n",
        "df_stats2 = pd.read_csv(\"https://media.githubusercontent.com/media/luissanty2/TFGRecursos/main/datasets/match_stats_2017_unindexed_csv.csv\", encoding = 'latin1')\n",
        "\n",
        "df_stats = pd.concat([df_stats1, df_stats2], axis=0)\n",
        "\n",
        "\n",
        "df_stats['winner_double_faults'] = df_stats['winner_double_faults'] / df_stats['winner_service_points_total']\n",
        "df_stats['loser_double_faults'] = df_stats['loser_double_faults'] / df_stats['loser_service_points_total']\n",
        "\n",
        "df_stats['winner_first_serves_in'] = df_stats['winner_first_serves_in'] / df_stats['winner_first_serves_total']\n",
        "df_stats['loser_first_serves_in'] = df_stats['loser_first_serves_in'] / df_stats['loser_first_serves_total']\n",
        "\n",
        "df_stats['winner_first_serve_points_won'] = df_stats['winner_first_serve_points_won'] / df_stats['winner_first_serve_points_total']\n",
        "df_stats['loser_first_serve_points_won'] = df_stats['loser_first_serve_points_won'] / df_stats['loser_first_serve_points_total']\n",
        "\n",
        "df_stats['winner_second_serves_in'] = 1 - (df_stats['winner_first_serves_in'] + df_stats['winner_double_faults'])\n",
        "df_stats['loser_second_serves_in'] = 1 - (df_stats['loser_first_serves_in'] + df_stats['loser_double_faults'])\n",
        "\n",
        "\n",
        "df_matchs = pd.merge(df_stats[['match_id','match_duration','winner_aces', 'loser_aces','winner_double_faults','loser_double_faults','winner_first_serves_in','loser_first_serves_in', 'loser_first_serve_points_won', 'winner_first_serve_points_won',\n",
        "                               'winner_second_serves_in', 'loser_second_serves_in']],\n",
        "                     df_scores[['tourney_year_id','match_id','tourney_round_name','winner_name','winner_player_id','loser_name','loser_player_id','winner_sets_won','loser_sets_won','winner_games_won','loser_games_won']],\n",
        "                     on='match_id')\n",
        "\n",
        "\n",
        "df_tournaments = pd.read_csv(\"https://media.githubusercontent.com/media/luissanty2/TFGRecursos/main/datasets/tournaments_1877-2017_unindexed_csv.csv\", encoding = 'latin1')\n",
        "\n",
        "\n",
        "df = pd.merge(df_matchs, df_tournaments[['tourney_surface','tourney_year_id','tourney_dates','tourney_year', 'tourney_month']], on=['tourney_year_id'])"
      ],
      "metadata": {
        "id": "a_TLEJnn6Pv9"
      },
      "execution_count": 52,
      "outputs": []
    },
    {
      "cell_type": "markdown",
      "source": [
        "Ahora se añade el elo-score (puntos en la clasificación ATP) al set de datos anterior."
      ],
      "metadata": {
        "id": "blKgbcFWzmGr"
      }
    },
    {
      "cell_type": "code",
      "source": [
        "df_ranking = pd.read_csv('https://media.githubusercontent.com/media/luissanty2/TFGRecursos/main/datasets/ranking_simplificado.csv')\n",
        "\n",
        "\n",
        "df = pd.merge(df, df_ranking[['ranking_points', 'week_year', 'week_month','player_id']], how='left', left_on=['tourney_year', 'tourney_month', 'winner_player_id'], right_on=['week_year','week_month','player_id'])\n",
        "df['winner_ranking_points'] = df['ranking_points']\n",
        "\n",
        "\n",
        "df = df.drop(columns=['ranking_points', 'week_year', 'week_month','player_id'])\n",
        "\n",
        "\n",
        "df = pd.merge(df, df_ranking[['ranking_points', 'week_year', 'week_month','player_id']], how='left', left_on=['tourney_year', 'tourney_month', 'loser_player_id'], right_on=['week_year','week_month','player_id'])\n",
        "df['loser_ranking_points'] = df['ranking_points']\n",
        "\n",
        "df = df.drop(columns=['ranking_points', 'week_year', 'week_month','player_id'])\n",
        "\n",
        "df = df.drop_duplicates(subset='match_id', keep=\"first\")"
      ],
      "metadata": {
        "colab": {
          "base_uri": "https://localhost:8080/"
        },
        "id": "5HeBIVDS-M3P",
        "outputId": "46e722ac-4917-40d3-e5be-458e6b039b35"
      },
      "execution_count": 53,
      "outputs": [
        {
          "output_type": "stream",
          "name": "stderr",
          "text": [
            "<ipython-input-53-cd29aa5c1534>:1: DtypeWarning: Columns (5) have mixed types. Specify dtype option on import or set low_memory=False.\n",
            "  df_ranking = pd.read_csv('https://media.githubusercontent.com/media/luissanty2/TFGRecursos/main/datasets/ranking_simplificado.csv')\n"
          ]
        }
      ]
    },
    {
      "cell_type": "markdown",
      "source": [
        "Se eliminan los partidos jugados en moqueta (carpet), ya que, al menos actualmente, no se juegan competiciones oficiales en moqueta.\n",
        "\n",
        "Se eliminan columnas inútiles que han sido utilizadas para fusionar diferentes tablas.\n",
        "\n",
        "Se eliminan filas con nulos.\n",
        "\n",
        "Se renombra una columna para mayor comodidad en su uso.\n",
        "\n",
        "Se resetean los índices."
      ],
      "metadata": {
        "id": "wIqprxgk0jMm"
      }
    },
    {
      "cell_type": "code",
      "source": [
        "df = df.drop(df[df.tourney_surface == \"Carpet\"].index)\n",
        "df = df.drop(columns=['tourney_year','match_id','tourney_year_id', 'winner_player_id', 'loser_player_id','tourney_month', 'tourney_dates'])\n",
        "df = df.dropna()\n",
        "df.rename(columns={\"tourney_surface\": \"surface\"}, inplace=True)\n",
        "df = df.reset_index(drop=True)"
      ],
      "metadata": {
        "id": "G3MT3mGR0gy2"
      },
      "execution_count": 54,
      "outputs": []
    },
    {
      "cell_type": "markdown",
      "source": [
        "Debido a como se realizará la regresión, es necesario tener una columna objetivo (y), así que se renombran las columnas (winner, loser => p1, p2) y se cambian algunos datos de columna para no solo tener y=0 (y==0 gana p1, y==1 gana p2):\n",
        "\n",
        "Se cambia:\n",
        "\n",
        "| winner_name | loser_name | y |\n",
        "|----------|----------|----------|\n",
        "| Rafael Nadal | Roger Federer   | 0   |\n",
        "| Novak Djokovic | Andy Murray   | 0   |\n",
        "\n",
        "a\n",
        "\n",
        "| p1_name | p2_name | y |\n",
        "|----------|----------|----------|\n",
        "| Rafael Nadal | Roger Federer   | 0   |\n",
        "| Andy Murray | Novak Djokovic   | 1   |"
      ],
      "metadata": {
        "id": "mCSCuh3hvkNq"
      }
    },
    {
      "cell_type": "code",
      "source": [
        "df.columns = df.columns.str.replace('winner', 'p1')\n",
        "df.columns = df.columns.str.replace('loser', 'p2')\n",
        "\n",
        "idx = (df.index < (df.shape[0]/2))\n",
        "\n",
        "df.loc[idx,['p1_aces','p2_aces']] = df.loc[idx,['p2_aces','p1_aces']].values\n",
        "df.loc[idx,['p1_double_faults','p2_double_faults']] = df.loc[idx,['p2_double_faults','p1_double_faults']].values\n",
        "df.loc[idx,['p1_first_serves_in' , 'p2_first_serves_in']] = df.loc[idx,['p2_first_serves_in' ,'p1_first_serves_in' ]].values\n",
        "df.loc[idx,['p1_first_serve_points_won' , 'p2_first_serve_points_won']] = df.loc[idx,['p2_first_serve_points_won' ,'p1_first_serve_points_won' ]].values\n",
        "df.loc[idx,['p1_second_serves_in' , 'p2_second_serves_in']] = df.loc[idx,['p2_second_serves_in' ,'p1_second_serves_in' ]].values\n",
        "df.loc[idx,['p1_sets_won', 'p2_sets_won']] = df.loc[idx,['p2_sets_won' , 'p1_sets_won']].values  \n",
        "df.loc[idx,[ 'p1_games_won','p2_games_won' ]] = df.loc[idx,['p2_games_won' ,'p1_games_won' ]].values\n",
        "df.loc[idx,['p1_ranking_points' ,'p2_ranking_points' ]] = df.loc[idx,['p2_ranking_points' ,'p1_ranking_points' ]].values\n",
        "df.loc[idx,['p1_name','p2_name']] = df.loc[idx,['p2_name','p1_name']].values\n",
        "\n",
        "df['y'] = 0\n",
        "df.loc[idx, 'y'] = 1"
      ],
      "metadata": {
        "id": "U9Jmn66UoOP1"
      },
      "execution_count": 55,
      "outputs": []
    },
    {
      "cell_type": "markdown",
      "source": [
        "Finalmente, se guarda el dataset."
      ],
      "metadata": {
        "id": "881r13863M3f"
      }
    },
    {
      "cell_type": "code",
      "source": [
        "df.to_csv('dataset_final.csv')\n",
        "df.head()"
      ],
      "metadata": {
        "id": "moH1xkcIMiUw",
        "colab": {
          "base_uri": "https://localhost:8080/",
          "height": 386
        },
        "outputId": "e7212a22-c0b5-49e3-acf5-9f0731e0d556"
      },
      "execution_count": 56,
      "outputs": [
        {
          "output_type": "execute_result",
          "data": {
            "text/plain": [
              "   match_duration  p1_aces  p2_aces  p1_double_faults  p2_double_faults  \\\n",
              "0            91.0      7.0      8.0          0.042254          0.061728   \n",
              "1           115.0     10.0      4.0          0.049383          0.012195   \n",
              "2            96.0      8.0      7.0          0.012658          0.055556   \n",
              "3            96.0      8.0      5.0          0.022472          0.044118   \n",
              "4            75.0      2.0      2.0          0.090909          0.020000   \n",
              "\n",
              "   p1_first_serves_in  p2_first_serves_in  p2_first_serve_points_won  \\\n",
              "0            0.577465            0.432099                   0.800000   \n",
              "1            0.444444            0.487805                   0.650000   \n",
              "2            0.556962            0.416667                   0.866667   \n",
              "3            0.426966            0.514706                   0.828571   \n",
              "4            0.560606            0.620000                   0.838710   \n",
              "\n",
              "   p1_first_serve_points_won  p1_second_serves_in  ...             p1_name  \\\n",
              "0                   0.682927             0.380282  ...       Magnus Norman   \n",
              "1                   0.750000             0.506173  ...      Nicolas Escude   \n",
              "2                   0.795455             0.430380  ...      Thomas Enqvist   \n",
              "3                   0.631579             0.550562  ...  Sebastien Grosjean   \n",
              "4                   0.567568             0.348485  ...          Tim Henman   \n",
              "\n",
              "          p2_name p1_sets_won p2_sets_won  p1_games_won  p2_games_won  \\\n",
              "0  Thomas Enqvist           1           2            10            15   \n",
              "1  Lleyton Hewitt           1           2            11            15   \n",
              "2  Lleyton Hewitt           1           2            11            15   \n",
              "3  Thomas Enqvist           0           2            11            14   \n",
              "4  Nicolas Escude           0           2             4            12   \n",
              "\n",
              "   surface  p1_ranking_points p2_ranking_points  y  \n",
              "0     Hard             2083.0            1489.0  1  \n",
              "1     Hard             1026.0            1430.0  1  \n",
              "2     Hard             1489.0            1430.0  1  \n",
              "3     Hard             1187.0            1489.0  1  \n",
              "4     Hard             1614.0            1026.0  1  \n",
              "\n",
              "[5 rows x 22 columns]"
            ],
            "text/html": [
              "\n",
              "  <div id=\"df-470e372d-0c28-477d-9e58-7f3c9f843d2f\">\n",
              "    <div class=\"colab-df-container\">\n",
              "      <div>\n",
              "<style scoped>\n",
              "    .dataframe tbody tr th:only-of-type {\n",
              "        vertical-align: middle;\n",
              "    }\n",
              "\n",
              "    .dataframe tbody tr th {\n",
              "        vertical-align: top;\n",
              "    }\n",
              "\n",
              "    .dataframe thead th {\n",
              "        text-align: right;\n",
              "    }\n",
              "</style>\n",
              "<table border=\"1\" class=\"dataframe\">\n",
              "  <thead>\n",
              "    <tr style=\"text-align: right;\">\n",
              "      <th></th>\n",
              "      <th>match_duration</th>\n",
              "      <th>p1_aces</th>\n",
              "      <th>p2_aces</th>\n",
              "      <th>p1_double_faults</th>\n",
              "      <th>p2_double_faults</th>\n",
              "      <th>p1_first_serves_in</th>\n",
              "      <th>p2_first_serves_in</th>\n",
              "      <th>p2_first_serve_points_won</th>\n",
              "      <th>p1_first_serve_points_won</th>\n",
              "      <th>p1_second_serves_in</th>\n",
              "      <th>...</th>\n",
              "      <th>p1_name</th>\n",
              "      <th>p2_name</th>\n",
              "      <th>p1_sets_won</th>\n",
              "      <th>p2_sets_won</th>\n",
              "      <th>p1_games_won</th>\n",
              "      <th>p2_games_won</th>\n",
              "      <th>surface</th>\n",
              "      <th>p1_ranking_points</th>\n",
              "      <th>p2_ranking_points</th>\n",
              "      <th>y</th>\n",
              "    </tr>\n",
              "  </thead>\n",
              "  <tbody>\n",
              "    <tr>\n",
              "      <th>0</th>\n",
              "      <td>91.0</td>\n",
              "      <td>7.0</td>\n",
              "      <td>8.0</td>\n",
              "      <td>0.042254</td>\n",
              "      <td>0.061728</td>\n",
              "      <td>0.577465</td>\n",
              "      <td>0.432099</td>\n",
              "      <td>0.800000</td>\n",
              "      <td>0.682927</td>\n",
              "      <td>0.380282</td>\n",
              "      <td>...</td>\n",
              "      <td>Magnus Norman</td>\n",
              "      <td>Thomas Enqvist</td>\n",
              "      <td>1</td>\n",
              "      <td>2</td>\n",
              "      <td>10</td>\n",
              "      <td>15</td>\n",
              "      <td>Hard</td>\n",
              "      <td>2083.0</td>\n",
              "      <td>1489.0</td>\n",
              "      <td>1</td>\n",
              "    </tr>\n",
              "    <tr>\n",
              "      <th>1</th>\n",
              "      <td>115.0</td>\n",
              "      <td>10.0</td>\n",
              "      <td>4.0</td>\n",
              "      <td>0.049383</td>\n",
              "      <td>0.012195</td>\n",
              "      <td>0.444444</td>\n",
              "      <td>0.487805</td>\n",
              "      <td>0.650000</td>\n",
              "      <td>0.750000</td>\n",
              "      <td>0.506173</td>\n",
              "      <td>...</td>\n",
              "      <td>Nicolas Escude</td>\n",
              "      <td>Lleyton Hewitt</td>\n",
              "      <td>1</td>\n",
              "      <td>2</td>\n",
              "      <td>11</td>\n",
              "      <td>15</td>\n",
              "      <td>Hard</td>\n",
              "      <td>1026.0</td>\n",
              "      <td>1430.0</td>\n",
              "      <td>1</td>\n",
              "    </tr>\n",
              "    <tr>\n",
              "      <th>2</th>\n",
              "      <td>96.0</td>\n",
              "      <td>8.0</td>\n",
              "      <td>7.0</td>\n",
              "      <td>0.012658</td>\n",
              "      <td>0.055556</td>\n",
              "      <td>0.556962</td>\n",
              "      <td>0.416667</td>\n",
              "      <td>0.866667</td>\n",
              "      <td>0.795455</td>\n",
              "      <td>0.430380</td>\n",
              "      <td>...</td>\n",
              "      <td>Thomas Enqvist</td>\n",
              "      <td>Lleyton Hewitt</td>\n",
              "      <td>1</td>\n",
              "      <td>2</td>\n",
              "      <td>11</td>\n",
              "      <td>15</td>\n",
              "      <td>Hard</td>\n",
              "      <td>1489.0</td>\n",
              "      <td>1430.0</td>\n",
              "      <td>1</td>\n",
              "    </tr>\n",
              "    <tr>\n",
              "      <th>3</th>\n",
              "      <td>96.0</td>\n",
              "      <td>8.0</td>\n",
              "      <td>5.0</td>\n",
              "      <td>0.022472</td>\n",
              "      <td>0.044118</td>\n",
              "      <td>0.426966</td>\n",
              "      <td>0.514706</td>\n",
              "      <td>0.828571</td>\n",
              "      <td>0.631579</td>\n",
              "      <td>0.550562</td>\n",
              "      <td>...</td>\n",
              "      <td>Sebastien Grosjean</td>\n",
              "      <td>Thomas Enqvist</td>\n",
              "      <td>0</td>\n",
              "      <td>2</td>\n",
              "      <td>11</td>\n",
              "      <td>14</td>\n",
              "      <td>Hard</td>\n",
              "      <td>1187.0</td>\n",
              "      <td>1489.0</td>\n",
              "      <td>1</td>\n",
              "    </tr>\n",
              "    <tr>\n",
              "      <th>4</th>\n",
              "      <td>75.0</td>\n",
              "      <td>2.0</td>\n",
              "      <td>2.0</td>\n",
              "      <td>0.090909</td>\n",
              "      <td>0.020000</td>\n",
              "      <td>0.560606</td>\n",
              "      <td>0.620000</td>\n",
              "      <td>0.838710</td>\n",
              "      <td>0.567568</td>\n",
              "      <td>0.348485</td>\n",
              "      <td>...</td>\n",
              "      <td>Tim Henman</td>\n",
              "      <td>Nicolas Escude</td>\n",
              "      <td>0</td>\n",
              "      <td>2</td>\n",
              "      <td>4</td>\n",
              "      <td>12</td>\n",
              "      <td>Hard</td>\n",
              "      <td>1614.0</td>\n",
              "      <td>1026.0</td>\n",
              "      <td>1</td>\n",
              "    </tr>\n",
              "  </tbody>\n",
              "</table>\n",
              "<p>5 rows × 22 columns</p>\n",
              "</div>\n",
              "      <button class=\"colab-df-convert\" onclick=\"convertToInteractive('df-470e372d-0c28-477d-9e58-7f3c9f843d2f')\"\n",
              "              title=\"Convert this dataframe to an interactive table.\"\n",
              "              style=\"display:none;\">\n",
              "        \n",
              "  <svg xmlns=\"http://www.w3.org/2000/svg\" height=\"24px\"viewBox=\"0 0 24 24\"\n",
              "       width=\"24px\">\n",
              "    <path d=\"M0 0h24v24H0V0z\" fill=\"none\"/>\n",
              "    <path d=\"M18.56 5.44l.94 2.06.94-2.06 2.06-.94-2.06-.94-.94-2.06-.94 2.06-2.06.94zm-11 1L8.5 8.5l.94-2.06 2.06-.94-2.06-.94L8.5 2.5l-.94 2.06-2.06.94zm10 10l.94 2.06.94-2.06 2.06-.94-2.06-.94-.94-2.06-.94 2.06-2.06.94z\"/><path d=\"M17.41 7.96l-1.37-1.37c-.4-.4-.92-.59-1.43-.59-.52 0-1.04.2-1.43.59L10.3 9.45l-7.72 7.72c-.78.78-.78 2.05 0 2.83L4 21.41c.39.39.9.59 1.41.59.51 0 1.02-.2 1.41-.59l7.78-7.78 2.81-2.81c.8-.78.8-2.07 0-2.86zM5.41 20L4 18.59l7.72-7.72 1.47 1.35L5.41 20z\"/>\n",
              "  </svg>\n",
              "      </button>\n",
              "      \n",
              "  <style>\n",
              "    .colab-df-container {\n",
              "      display:flex;\n",
              "      flex-wrap:wrap;\n",
              "      gap: 12px;\n",
              "    }\n",
              "\n",
              "    .colab-df-convert {\n",
              "      background-color: #E8F0FE;\n",
              "      border: none;\n",
              "      border-radius: 50%;\n",
              "      cursor: pointer;\n",
              "      display: none;\n",
              "      fill: #1967D2;\n",
              "      height: 32px;\n",
              "      padding: 0 0 0 0;\n",
              "      width: 32px;\n",
              "    }\n",
              "\n",
              "    .colab-df-convert:hover {\n",
              "      background-color: #E2EBFA;\n",
              "      box-shadow: 0px 1px 2px rgba(60, 64, 67, 0.3), 0px 1px 3px 1px rgba(60, 64, 67, 0.15);\n",
              "      fill: #174EA6;\n",
              "    }\n",
              "\n",
              "    [theme=dark] .colab-df-convert {\n",
              "      background-color: #3B4455;\n",
              "      fill: #D2E3FC;\n",
              "    }\n",
              "\n",
              "    [theme=dark] .colab-df-convert:hover {\n",
              "      background-color: #434B5C;\n",
              "      box-shadow: 0px 1px 3px 1px rgba(0, 0, 0, 0.15);\n",
              "      filter: drop-shadow(0px 1px 2px rgba(0, 0, 0, 0.3));\n",
              "      fill: #FFFFFF;\n",
              "    }\n",
              "  </style>\n",
              "\n",
              "      <script>\n",
              "        const buttonEl =\n",
              "          document.querySelector('#df-470e372d-0c28-477d-9e58-7f3c9f843d2f button.colab-df-convert');\n",
              "        buttonEl.style.display =\n",
              "          google.colab.kernel.accessAllowed ? 'block' : 'none';\n",
              "\n",
              "        async function convertToInteractive(key) {\n",
              "          const element = document.querySelector('#df-470e372d-0c28-477d-9e58-7f3c9f843d2f');\n",
              "          const dataTable =\n",
              "            await google.colab.kernel.invokeFunction('convertToInteractive',\n",
              "                                                     [key], {});\n",
              "          if (!dataTable) return;\n",
              "\n",
              "          const docLinkHtml = 'Like what you see? Visit the ' +\n",
              "            '<a target=\"_blank\" href=https://colab.research.google.com/notebooks/data_table.ipynb>data table notebook</a>'\n",
              "            + ' to learn more about interactive tables.';\n",
              "          element.innerHTML = '';\n",
              "          dataTable['output_type'] = 'display_data';\n",
              "          await google.colab.output.renderOutput(dataTable, element);\n",
              "          const docLink = document.createElement('div');\n",
              "          docLink.innerHTML = docLinkHtml;\n",
              "          element.appendChild(docLink);\n",
              "        }\n",
              "      </script>\n",
              "    </div>\n",
              "  </div>\n",
              "  "
            ]
          },
          "metadata": {},
          "execution_count": 56
        }
      ]
    }
  ]
}