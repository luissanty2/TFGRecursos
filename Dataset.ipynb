{
  "nbformat": 4,
  "nbformat_minor": 0,
  "metadata": {
    "colab": {
      "provenance": [],
      "authorship_tag": "ABX9TyPfkaBRgHdEcJoRwy9W8I0J",
      "include_colab_link": true
    },
    "kernelspec": {
      "name": "python3",
      "display_name": "Python 3"
    },
    "language_info": {
      "name": "python"
    }
  },
  "cells": [
    {
      "cell_type": "markdown",
      "metadata": {
        "id": "view-in-github",
        "colab_type": "text"
      },
      "source": [
        "<a href=\"https://colab.research.google.com/github/luissanty2/TFGRecursos/blob/main/Dataset.ipynb\" target=\"_parent\"><img src=\"https://colab.research.google.com/assets/colab-badge.svg\" alt=\"Open In Colab\"/></a>"
      ]
    },
    {
      "cell_type": "code",
      "execution_count": null,
      "metadata": {
        "id": "K6lTdGdi55vv"
      },
      "outputs": [],
      "source": [
        "import pandas as pd\n",
        "import numpy as np"
      ]
    },
    {
      "cell_type": "code",
      "source": [
        "df_scores1 = pd.read_csv(\"match_scores_1991-2016_unindexed_csv.csv\", encoding = 'latin1')\n",
        "df_scores2 = pd.read_csv(\"match_scores_2017_unindexed_csv.csv\", encoding = 'latin1')\n",
        "\n",
        "df_scores = pd.concat([df_scores1, df_scores2], axis=0)\n",
        "\n",
        "\n",
        "df_stats1 = pd.read_csv(\"match_stats_1991-2016_unindexed_csv.csv\", encoding = 'latin1')\n",
        "df_stats2 = pd.read_csv(\"match_stats_2017_unindexed_csv.csv\", encoding = 'latin1')\n",
        "\n",
        "df_stats = pd.concat([df_stats1, df_stats2], axis=0)\n",
        "\n",
        "\n",
        "df_stats['winner_double_faults'] = df_stats['winner_double_faults'] / df_stats['winner_service_points_total']\n",
        "df_stats['loser_double_faults'] = df_stats['loser_double_faults'] / df_stats['loser_service_points_total']\n",
        "\n",
        "df_stats['winner_first_serves_in'] = df_stats['winner_first_serves_in'] / df_stats['winner_first_serves_total']\n",
        "df_stats['loser_first_serves_in'] = df_stats['loser_first_serves_in'] / df_stats['loser_first_serves_total']\n",
        "\n",
        "df_stats['winner_first_serve_points_won'] = df_stats['winner_first_serve_points_won'] / df_stats['winner_first_serve_points_total']\n",
        "df_stats['loser_first_serve_points_won'] = df_stats['loser_first_serve_points_won'] / df_stats['loser_first_serve_points_total']\n",
        "\n",
        "df_stats['winner_second_serves_in'] = 1 - (df_stats['winner_first_serves_in'] + df_stats['winner_double_faults'])\n",
        "df_stats['loser_second_serves_in'] = 1 - (df_stats['loser_first_serves_in'] + df_stats['loser_double_faults'])\n",
        "\n",
        "\n",
        "df_matchs = pd.merge(df_stats[['match_id','match_duration','winner_aces', 'loser_aces','winner_double_faults','loser_double_faults','winner_first_serves_in','loser_first_serves_in', 'loser_first_serve_points_won', 'winner_first_serve_points_won',\n",
        "                               'winner_second_serves_in', 'loser_second_serves_in']],\n",
        "                     df_scores[['tourney_year_id','match_id','tourney_round_name','winner_name','winner_player_id','loser_name','loser_player_id','winner_sets_won','loser_sets_won','winner_games_won','loser_games_won']],\n",
        "                     on='match_id')\n",
        "\n",
        "\n",
        "df_tournaments = pd.read_csv(\"tournaments_1877-2017_unindexed_csv.csv\", encoding = 'latin1')\n",
        "\n",
        "\n",
        "df = pd.merge(df_matchs, df_tournaments[['tourney_surface','tourney_year_id','tourney_dates','tourney_year', 'tourney_month']], on=['tourney_year_id'])\n",
        "\n",
        "print(df.shape)\n",
        "\n"
      ],
      "metadata": {
        "colab": {
          "base_uri": "https://localhost:8080/"
        },
        "id": "a_TLEJnn6Pv9",
        "outputId": "94fe1996-7af3-425d-817e-4866f4f41cee"
      },
      "execution_count": null,
      "outputs": [
        {
          "output_type": "stream",
          "name": "stdout",
          "text": [
            "(95773, 26)\n"
          ]
        }
      ]
    },
    {
      "cell_type": "code",
      "source": [
        "df_ranking = pd.read_csv('rankings_1973-2017_csv.csv')\n",
        "\n",
        "\n",
        "df = pd.merge(df, df_ranking[['ranking_points', 'week_year', 'week_month','player_id']], how='left', left_on=['tourney_year', 'tourney_month', 'winner_player_id'], right_on=['week_year','week_month','player_id'])\n",
        "df['winner_ranking_points'] = df['ranking_points']\n",
        "\n",
        "\n",
        "df = df.drop(columns=['ranking_points', 'week_year', 'week_month','player_id'])\n",
        "\n",
        "\n",
        "df = pd.merge(df, df_ranking[['ranking_points', 'week_year', 'week_month','player_id']], how='left', left_on=['tourney_year', 'tourney_month', 'loser_player_id'], right_on=['week_year','week_month','player_id'])\n",
        "df['loser_ranking_points'] = df['ranking_points']\n",
        "\n",
        "df = df.drop(columns=['ranking_points', 'week_year', 'week_month','player_id'])\n",
        "\n",
        "df = df.drop_duplicates(subset='match_id', keep=\"first\")\n",
        "\n",
        "\n",
        "\n",
        "df = df.drop(df[df.tourney_year < 2000].index)\n",
        "df = df.drop(df[df.tourney_surface == \"Carpet\"].index)\n",
        "df = df.drop(columns=['tourney_year','match_id','tourney_year_id', 'winner_player_id', 'loser_player_id','tourney_month', 'tourney_dates'])\n",
        "df = df.dropna()\n",
        "df.rename(columns={\"tourney_surface\": \"surface\"}, inplace=True)\n",
        "\n",
        "print(df.shape)"
      ],
      "metadata": {
        "colab": {
          "base_uri": "https://localhost:8080/"
        },
        "id": "5HeBIVDS-M3P",
        "outputId": "425aa519-423d-4dc8-d4cc-99731dbcb53f"
      },
      "execution_count": null,
      "outputs": [
        {
          "output_type": "stream",
          "name": "stderr",
          "text": [
            "<ipython-input-123-0f9b17f9398c>:1: DtypeWarning: Columns (4) have mixed types. Specify dtype option on import or set low_memory=False.\n",
            "  df_ranking = pd.read_csv('rankings_1973-2017_csv.csv')\n"
          ]
        },
        {
          "output_type": "stream",
          "name": "stdout",
          "text": [
            "(63181, 21)\n"
          ]
        },
        {
          "output_type": "stream",
          "name": "stderr",
          "text": [
            "<ipython-input-123-0f9b17f9398c>:24: SettingWithCopyWarning: \n",
            "A value is trying to be set on a copy of a slice from a DataFrame\n",
            "\n",
            "See the caveats in the documentation: https://pandas.pydata.org/pandas-docs/stable/user_guide/indexing.html#returning-a-view-versus-a-copy\n",
            "  df.rename(columns={\"tourney_surface\": \"surface\"}, inplace=True)\n"
          ]
        }
      ]
    },
    {
      "cell_type": "code",
      "source": [
        "print(df.shape)\n",
        "print(df.columns)\n",
        "df.to_csv('dataset_final.csv')"
      ],
      "metadata": {
        "colab": {
          "base_uri": "https://localhost:8080/"
        },
        "id": "U9Jmn66UoOP1",
        "outputId": "42f887c9-fa4b-4efa-dd35-d296751393d9"
      },
      "execution_count": null,
      "outputs": [
        {
          "output_type": "stream",
          "name": "stdout",
          "text": [
            "(63181, 21)\n",
            "Index(['match_duration', 'winner_aces', 'loser_aces', 'winner_double_faults',\n",
            "       'loser_double_faults', 'winner_first_serves_in',\n",
            "       'loser_first_serves_in', 'loser_first_serve_points_won',\n",
            "       'winner_first_serve_points_won', 'winner_second_serves_in',\n",
            "       'loser_second_serves_in', 'tourney_round_name', 'winner_name',\n",
            "       'loser_name', 'winner_sets_won', 'loser_sets_won', 'winner_games_won',\n",
            "       'loser_games_won', 'surface', 'winner_ranking_points',\n",
            "       'loser_ranking_points'],\n",
            "      dtype='object')\n"
          ]
        }
      ]
    }
  ]
}