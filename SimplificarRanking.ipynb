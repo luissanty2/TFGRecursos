{
  "nbformat": 4,
  "nbformat_minor": 0,
  "metadata": {
    "colab": {
      "provenance": [],
      "authorship_tag": "ABX9TyOV2CbtiyPzH7hxtMBakfGJ",
      "include_colab_link": true
    },
    "kernelspec": {
      "name": "python3",
      "display_name": "Python 3"
    },
    "language_info": {
      "name": "python"
    }
  },
  "cells": [
    {
      "cell_type": "markdown",
      "metadata": {
        "id": "view-in-github",
        "colab_type": "text"
      },
      "source": [
        "<a href=\"https://colab.research.google.com/github/luissanty2/TFGRecursos/blob/main/SimplificarRanking.ipynb\" target=\"_parent\"><img src=\"https://colab.research.google.com/assets/colab-badge.svg\" alt=\"Open In Colab\"/></a>"
      ]
    },
    {
      "cell_type": "markdown",
      "source": [
        "# Simplificación de ranking\n",
        "\n",
        "Debido a que el archivo de los rankings es muy pesado y no se puede subir a github (GIT LFS puede, pero pide subscripción bimensual) se simplificará usando este mini cuaderno."
      ],
      "metadata": {
        "id": "cWS6z09fkZ1l"
      }
    },
    {
      "cell_type": "code",
      "source": [
        "import pandas as pd\n",
        "from io import StringIO"
      ],
      "metadata": {
        "id": "3n0kTJ90PTEy"
      },
      "execution_count": null,
      "outputs": []
    },
    {
      "cell_type": "markdown",
      "source": [
        "Este csv se ha de subir a mano, lo cual es un proceso un poco lento debido a los 250MB que pesa el archivo."
      ],
      "metadata": {
        "id": "7vY7Hw2Vkwfk"
      }
    },
    {
      "cell_type": "code",
      "execution_count": null,
      "metadata": {
        "colab": {
          "base_uri": "https://localhost:8080/"
        },
        "id": "IOvWpRsZPHua",
        "outputId": "a22128f4-2392-40ad-a886-86e4ec7f8078"
      },
      "outputs": [
        {
          "output_type": "stream",
          "name": "stderr",
          "text": [
            "<ipython-input-21-7b3ea70102de>:1: DtypeWarning: Columns (4) have mixed types. Specify dtype option on import or set low_memory=False.\n",
            "  df = pd.read_csv('rankings_1973-2017_csv.csv')\n"
          ]
        }
      ],
      "source": [
        "df = pd.read_csv('rankings_1973-2017_csv.csv')"
      ]
    },
    {
      "cell_type": "markdown",
      "source": [
        "La simplificación es simple, se eliminarán las entradas de antes del año 2000 y las entradas del número de ranking mayor a 500. Esto deja el archivo en unos 50MB"
      ],
      "metadata": {
        "id": "h01RfRdjks7K"
      }
    },
    {
      "cell_type": "code",
      "source": [
        "df = df.drop(df[df.week_year < 2000].index)\n",
        "df = df.drop(df[df.rank_number > 500].index)\n",
        "\n",
        "df.to_csv('ranking_simplificado.csv')\n",
        "! du -sh 'ranking_simplificado.csv'"
      ],
      "metadata": {
        "colab": {
          "base_uri": "https://localhost:8080/"
        },
        "id": "hd-PkB_qZY3w",
        "outputId": "1240e660-b813-4308-c74e-304b509f7cc0"
      },
      "execution_count": null,
      "outputs": [
        {
          "output_type": "stream",
          "name": "stdout",
          "text": [
            "50M\tranking_simplificado.csv\n"
          ]
        }
      ]
    }
  ]
}